{
 "cells": [
  {
   "cell_type": "markdown",
   "metadata": {},
   "source": [
    "# React Agent"
   ]
  },
  {
   "cell_type": "code",
   "execution_count": 1,
   "metadata": {},
   "outputs": [],
   "source": [
    "from llama_index.llms.ollama import Ollama\n",
    "from llama_index.core import Settings\n",
    "from llama_index.embeddings.ollama import OllamaEmbedding"
   ]
  },
  {
   "cell_type": "code",
   "execution_count": 2,
   "metadata": {},
   "outputs": [],
   "source": [
    "Settings.llm = Ollama(model = \"qwen2.5:3b\")\n",
    "Settings.embed_model = OllamaEmbedding(model_name=\"nomic-embed-text\")"
   ]
  },
  {
   "cell_type": "code",
   "execution_count": 1,
   "metadata": {},
   "outputs": [
    {
     "name": "stdout",
     "output_type": "stream",
     "text": [
      "Certificates generated successfully!\n"
     ]
    }
   ],
   "source": [
    "import pandas as pd\n",
    "from PyPDF2 import PdfReader, PdfWriter\n",
    "from reportlab.pdfgen import canvas\n",
    "from reportlab.lib.pagesizes import letter\n",
    "import os\n",
    "\n",
    "def fill_certificate(excel_file, pdf_template, output_folder):\n",
    "    df = pd.read_excel(excel_file)\n",
    "    \n",
    "    os.makedirs(output_folder, exist_ok=True)\n",
    "    \n",
    "    if 'Name' not in df.columns or 'Department' not in df.columns:\n",
    "        raise ValueError(\"Excel file must contain 'Name' and 'Department' columns\")\n",
    "    \n",
    "    reader = PdfReader(pdf_template)\n",
    "    \n",
    "    for index, row in df.iterrows():\n",
    "        name = row['Name']\n",
    "        department = row['Department']\n",
    "        \n",
    "        writer = PdfWriter()\n",
    "        \n",
    "        overlay_path = \"overlay.pdf\"\n",
    "        page_width = float(reader.pages[0].mediabox[2])\n",
    "        page_height = float(reader.pages[0].mediabox[3])\n",
    "\n",
    "        c = canvas.Canvas(overlay_path, pagesize=(page_width, page_height))\n",
    "        \n",
    "        name_x, name_y = 360, 280  \n",
    "        dept_x, dept_y = 680, 280  \n",
    "        \n",
    "        c.setFont(\"Times-BoldItalic\", 18)  \n",
    "        c.setFillColorRGB(0.55, 0.0, 0.0)  \n",
    "        c.drawString(dept_x, dept_y, department)\n",
    "        c.drawString(name_x, name_y, name)\n",
    "\n",
    "        c.save()\n",
    "        \n",
    "        overlay_reader = PdfReader(overlay_path)\n",
    "        for page in reader.pages:\n",
    "            page.merge_page(overlay_reader.pages[0])\n",
    "            writer.add_page(page)\n",
    "        \n",
    "        output_path = os.path.join(output_folder, f\"{name}.pdf\")\n",
    "        with open(output_path, \"wb\") as output_pdf:\n",
    "            writer.write(output_pdf)\n",
    "    \n",
    "    print(\"Certificates generated successfully!\")\n",
    "\n",
    "fill_certificate('data.xlsx', 'template.pdf', 'results')\n"
   ]
  },
  {
   "cell_type": "code",
   "execution_count": 1,
   "metadata": {},
   "outputs": [
    {
     "name": "stdout",
     "output_type": "stream",
     "text": [
      "Certificates generated successfully!\n"
     ]
    }
   ],
   "source": [
    "import pandas as pd\n",
    "from PyPDF2 import PdfReader, PdfWriter\n",
    "from reportlab.pdfgen import canvas\n",
    "import os\n",
    "\n",
    "def fill_certificate(excel_file, pdf_template, output_folder):\n",
    "    df = pd.read_excel(excel_file)\n",
    "    \n",
    "    os.makedirs(output_folder, exist_ok=True)\n",
    "    \n",
    "    if 'Name' not in df.columns or 'Department' not in df.columns:\n",
    "        raise ValueError(\"Excel file must contain 'Name' and 'Department' columns\")\n",
    "    \n",
    "    for index, row in df.iterrows():\n",
    "        name = str(row['Name']).strip()\n",
    "        department = str(row['Department']).strip()\n",
    "        \n",
    "        template_reader = PdfReader(pdf_template)\n",
    "        writer = PdfWriter()\n",
    "\n",
    "        # Generate a unique overlay file for each entry\n",
    "        overlay_path = f\"overlay_{index}.pdf\"\n",
    "        page_width = float(template_reader.pages[0].mediabox[2])\n",
    "        page_height = float(template_reader.pages[0].mediabox[3])\n",
    "\n",
    "        # Create the overlay PDF with the participant's name and department\n",
    "        c = canvas.Canvas(overlay_path, pagesize=(page_width, page_height))\n",
    "        \n",
    "        name_x, name_y = 360, 280  \n",
    "        dept_x, dept_y = 680, 280  \n",
    "\n",
    "        c.setFont(\"Times-BoldItalic\", 18)  \n",
    "        c.setFillColorRGB(0.55, 0.0, 0.0)  \n",
    "        c.drawString(dept_x, dept_y, department)\n",
    "        c.drawString(name_x, name_y, name)\n",
    "\n",
    "        c.save()\n",
    "\n",
    "        overlay_reader = PdfReader(overlay_path)\n",
    "        overlay_page = overlay_reader.pages[0]\n",
    "\n",
    "        # Get only the first page of the template and merge the overlay\n",
    "        template_page = template_reader.pages[0]\n",
    "        template_page.merge_page(overlay_page)\n",
    "        writer.add_page(template_page)\n",
    "\n",
    "        # Save the output certificate\n",
    "        output_path = os.path.join(output_folder, f\"{name}.pdf\")\n",
    "        with open(output_path, \"wb\") as output_pdf:\n",
    "            writer.write(output_pdf)\n",
    "        \n",
    "        # Remove overlay file after processing\n",
    "        os.remove(overlay_path)\n",
    "\n",
    "    print(\"Certificates generated successfully!\")\n",
    "\n",
    "fill_certificate('data.xlsx', 'template.pdf', 'results')\n"
   ]
  },
  {
   "cell_type": "code",
   "execution_count": null,
   "metadata": {},
   "outputs": [],
   "source": []
  }
 ],
 "metadata": {
  "kernelspec": {
   "display_name": "Python 3",
   "language": "python",
   "name": "python3"
  },
  "language_info": {
   "codemirror_mode": {
    "name": "ipython",
    "version": 3
   },
   "file_extension": ".py",
   "mimetype": "text/x-python",
   "name": "python",
   "nbconvert_exporter": "python",
   "pygments_lexer": "ipython3",
   "version": "3.12.3"
  }
 },
 "nbformat": 4,
 "nbformat_minor": 2
}
