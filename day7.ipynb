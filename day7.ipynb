{
 "cells": [
  {
   "cell_type": "markdown",
   "metadata": {},
   "source": [
    "# vector store: Store directly vectors using chromadb"
   ]
  },
  {
   "cell_type": "code",
   "execution_count": 1,
   "metadata": {},
   "outputs": [],
   "source": [
    "from llama_index.llms.ollama import Ollama\n",
    "from llama_index.embeddings.ollama import OllamaEmbedding\n",
    "from llama_index.core import  SimpleDirectoryReader, VectorStoreIndex,Settings\n"
   ]
  },
  {
   "cell_type": "code",
   "execution_count": 2,
   "metadata": {},
   "outputs": [],
   "source": [
    "Settings.llm = Ollama(model = 'granite3.2:2b')\n",
    "Settings.embed_model = OllamaEmbedding('nomic-embed-text')"
   ]
  },
  {
   "cell_type": "code",
   "execution_count": 3,
   "metadata": {},
   "outputs": [],
   "source": [
    "documents = SimpleDirectoryReader('data').load_data()"
   ]
  },
  {
   "cell_type": "code",
   "execution_count": 4,
   "metadata": {},
   "outputs": [],
   "source": [
    "# ! pip install chromadb llama-index-vector-stores-chroma --break-system-packages"
   ]
  },
  {
   "cell_type": "code",
   "execution_count": 5,
   "metadata": {},
   "outputs": [],
   "source": [
    "import chromadb\n",
    "from llama_index.vector_stores.chroma import ChromaVectorStore\n",
    "from llama_index.core import StorageContext"
   ]
  },
  {
   "cell_type": "code",
   "execution_count": 6,
   "metadata": {},
   "outputs": [],
   "source": [
    "db = chromadb.PersistentClient(path ='./data/chroma.db')"
   ]
  },
  {
   "cell_type": "code",
   "execution_count": 7,
   "metadata": {},
   "outputs": [],
   "source": [
    "chroma_collection = db.get_or_create_collection('chroma')"
   ]
  },
  {
   "cell_type": "code",
   "execution_count": 8,
   "metadata": {},
   "outputs": [],
   "source": [
    "vector_store = ChromaVectorStore(chroma_collection)\n",
    "storage_context = StorageContext.from_defaults(vector_store=vector_store)"
   ]
  },
  {
   "cell_type": "code",
   "execution_count": 9,
   "metadata": {},
   "outputs": [],
   "source": [
    "INDEX = VectorStoreIndex.from_documents(documents, storage_context)"
   ]
  },
  {
   "cell_type": "code",
   "execution_count": 10,
   "metadata": {},
   "outputs": [],
   "source": [
    "Querry_engine = INDEX.as_query_engine(streaming = True)"
   ]
  },
  {
   "cell_type": "code",
   "execution_count": 12,
   "metadata": {},
   "outputs": [
    {
     "name": "stdout",
     "output_type": "stream",
     "text": [
      "This document delves into the topic of Tuluva language recognition, translation efforts, and advancements in natural language processing (NLP), specifically focusing on rule-based machine translation (RBMT). The text discusses the indigenous people residing in Tulu Nadu, who primarily speak four dialects of Tulu. These dialects are utilized for inter-community communication, trade, and entertainment across various regions including Mangalore, Udupi, Karkala, Belthangady, Kundapura, Kasaragod, Manjeshwar, Puttur Sullia, and Bantwal.\n",
      "\n",
      "The article highlights ongoing initiatives aimed at incorporating Tulu into the 8th Schedule of the Constitution, emphasizing its growing recognition as the second language of Karnataka. It explores how machine translation (MT), an essential component of NLP, has significantly evolved over time. The primary focus here is rule-based machine translation (RBMT), an early approach in language translation that relies on predefined linguistic rules to convert input sentences into target Tulu dialects.\n",
      "\n",
      "The article details RBMT's three phases: analyzing the input sentence, transferring linguistic components from the source language to the target Tulu, and ultimately producing the translated output. Its purpose is to shed light on how these translation systems function and their potential role in advancing NLP for under-resourced languages like Tulu."
     ]
    }
   ],
   "source": [
    "for chunk in Querry_engine.query('what is the documenst about?').response_gen:\n",
    "    print(chunk,end='',flush=True)"
   ]
  }
 ],
 "metadata": {
  "kernelspec": {
   "display_name": "Python 3",
   "language": "python",
   "name": "python3"
  },
  "language_info": {
   "codemirror_mode": {
    "name": "ipython",
    "version": 3
   },
   "file_extension": ".py",
   "mimetype": "text/x-python",
   "name": "python",
   "nbconvert_exporter": "python",
   "pygments_lexer": "ipython3",
   "version": "3.12.3"
  }
 },
 "nbformat": 4,
 "nbformat_minor": 2
}
