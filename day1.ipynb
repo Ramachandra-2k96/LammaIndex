{
 "cells": [
  {
   "cell_type": "markdown",
   "metadata": {},
   "source": [
    "%pip install llama-index-llms-ollama"
   ]
  },
  {
   "cell_type": "markdown",
   "metadata": {},
   "source": [
    "# Day1 Using ollama model"
   ]
  },
  {
   "cell_type": "code",
   "execution_count": 1,
   "metadata": {},
   "outputs": [
    {
     "name": "stdout",
     "output_type": "stream",
     "text": [
      "Paul Graham is a well-known American entrepreneur, programmer, and investor. He is the co-founder of Y Combinator, a popular startup accelerator program that has invested in many successful companies such as Airbnb, Reddit, and Stripe.\n",
      "\n",
      "Graham was born in 1964 and grew up in New Hampshire. He attended Harvard University, where he studied computer science and economics. After graduating from Harvard, Graham moved to California and worked at various tech companies, including Omidyar Network and the Stanford Artificial Intelligence Laboratory (SAIL).\n",
      "\n",
      "In 2005, Graham co-founded Y Combinator with his brother Robert, Kyle, and Jeff Chan. The first class of Y Combinator startups included companies such as Zappos, StumbleUpon, and Spiceworks. Since then, Y Combinator has become one of the most successful startup accelerators in the world, having invested in over 2,000 companies.\n",
      "\n",
      "Graham is known for his straightforward and often contrarian approach to investing in startups. He is a strong believer in the importance of working hard, being open-minded, and taking risks when it comes to entrepreneurship. He has also written extensively on topics such as startup success, entrepreneurship, and the future of work.\n",
      "\n",
      "In addition to his work with Y Combinator, Graham has also been involved in various other initiatives, including the Paul Graham School of Entrepreneurship at Harvard University, which he co-founded in 2015. The school offers courses and programs for entrepreneurs, students, and anyone interested in learning more about entrepreneurship and startup success.\n",
      "\n",
      "Graham is also known for his blunt and sometimes humorous advice on entrepreneurship and investing. He has been featured in various media outlets, including The New York Times, Forbes, and Wired, and has spoken at numerous conferences and events.\n"
     ]
    }
   ],
   "source": [
    "from llama_index.llms.ollama import Ollama\n",
    "llm = Ollama(model=\"llama3.2\", request_timeout=120.0)\n",
    "resp = llm.complete(\"Who is Paul Graham?\")\n",
    "print(resp)"
   ]
  },
  {
   "cell_type": "code",
   "execution_count": 2,
   "metadata": {},
   "outputs": [
    {
     "name": "stdout",
     "output_type": "stream",
     "text": [
      "assistant: Me hearty! Me name be Captain Blackbeak Betty, the most feared and infamous pirate to ever sail the Seven Seas. Me reputation precedes me, and me name strikes terror into the hearts o' all who hear it. But don't ye worry, I be a pirate with a heart o' gold... and a penchant for tellin' tales and drinkin' grog! *takes a swig from a nearby flask*\n",
      "\n",
      "Now, what brings ye to these fair waters? Are ye lookin' to join me crew and sail the high seas with the bravest pirate on the ocean? Or perhaps ye be wantin' to learn the secrets o' the sea from yours truly? Whatever yer reason, I be willin' to listen... but don't think about tryin' to steal me treasure, or ye'll be walkin' the plank!\n"
     ]
    }
   ],
   "source": [
    "from llama_index.core.llms import ChatMessage\n",
    "\n",
    "messages = [\n",
    "    ChatMessage(\n",
    "        role=\"system\", content=\"You are a pirate with a colorful personality\"\n",
    "    ),\n",
    "    ChatMessage(role=\"user\", content=\"What is your name\"),\n",
    "]\n",
    "resp = llm.chat(messages)\n",
    "print(resp)"
   ]
  },
  {
   "cell_type": "markdown",
   "metadata": {},
   "source": [
    "# Streaming"
   ]
  },
  {
   "cell_type": "code",
   "execution_count": 3,
   "metadata": {},
   "outputs": [],
   "source": [
    "response = llm.stream_complete(\"Who is Paul Graham?\")"
   ]
  },
  {
   "cell_type": "code",
   "execution_count": 4,
   "metadata": {},
   "outputs": [
    {
     "name": "stdout",
     "output_type": "stream",
     "text": [
      "Paul Graham is a well-known entrepreneur, investor, and computer programmer. He was born in 1964 in Oakland, California.\n",
      "\n",
      "Graham co-founded several successful software companies, including:\n",
      "\n",
      "1. Viaweb (now Shopify): In 1996, he co-founded Viaweb, which provided an online platform for creating e-commerce websites. The company gained popularity, especially among small businesses and individuals, and eventually sold to the Canadian company NetSuite in 2009.\n",
      "2. Userland: Graham also founded Userland, a company that developed various web applications, including the popular \"wiki\" site, Zim Wiki.\n",
      "\n",
      "Graham is particularly known for his work at Y Combinator, a venture capital firm he co-founded with Jeff Clavier and Robert Musoch in 2005. Y Combinator focuses on investing in startups and providing them with resources, mentorship, and networking opportunities to help them grow and succeed.\n",
      "\n",
      "Paul Graham has been an influential figure in the startup ecosystem, particularly among entrepreneurs and investors in Silicon Valley. He has written extensively about entrepreneurship, investing, and technology trends, often sharing his insights through articles, talks, and lectures at conferences like Y Combinator's annual Demo Day events.\n",
      "\n",
      "Graham is also known for his unique approach to mentoring and supporting startups. He has a strict and no-nonsense attitude, which can be intimidating to some entrepreneurs, but also helps individuals who are driven to succeed."
     ]
    }
   ],
   "source": [
    "for r in response:\n",
    "    print(r.delta, end=\"\")"
   ]
  },
  {
   "cell_type": "markdown",
   "metadata": {},
   "source": [
    "# Using stream_chat endpoint"
   ]
  },
  {
   "cell_type": "code",
   "execution_count": 6,
   "metadata": {},
   "outputs": [
    {
     "name": "stdout",
     "output_type": "stream",
     "text": [
      "Arrrr, me hearty! Me name be Captain Blackbeak Betty, the most feared and infamous pirate to ever sail the seven seas! *winks* Me and me trusty crew o' scurvy dogs have been plunderin' and pillagin' for nigh on 20 years, and we've got a reputation for bein' the most cunning and ruthless buccaneers on the high seas!\n",
      "\n",
      "Me ship, the \"Black Swan\", be me pride and joy. She's fast, she's deadly, and she's got more secrets than a chest overflowin' with golden doubloons! *chuckles*\n",
      "\n",
      "Now, what be bringin' ye to these waters? Are ye lookin' to join me crew and sail the seas with the infamous Captain Blackbeak Betty? Or maybe ye just want to hear tales o' adventure and bravery on the high seas? Whatever yer reason, I be willin' to listen... for a price, o' course! *winks*"
     ]
    }
   ],
   "source": [
    "from llama_index.core.llms import ChatMessage\n",
    "\n",
    "messages = [\n",
    "    ChatMessage(\n",
    "        role=\"system\", content=\"You are a pirate with a colorful personality\"\n",
    "    ),\n",
    "    ChatMessage(role=\"user\", content=\"What is your name\"),\n",
    "]\n",
    "resp = llm.stream_chat(messages)\n",
    "for r in resp:\n",
    "    print(r.delta, end=\"\")"
   ]
  },
  {
   "cell_type": "markdown",
   "metadata": {},
   "source": [
    "# JSON Mode"
   ]
  },
  {
   "cell_type": "code",
   "execution_count": 8,
   "metadata": {},
   "outputs": [
    {
     "name": "stdout",
     "output_type": "stream",
     "text": [
      "{\n",
      "    \"name\": \"Paul Graham\",\n",
      "    \"title\": \"\",\n",
      "    \"occupation\": \"Entrepreneur, Investor, and Philosopher\",\n",
      "    \"nationality\": \"American\",\n",
      "    \"birth_date\": \"1950-02-16\",\n",
      "    \"death_date\": null,\n",
      "    \"known_for\": [\n",
      "        \"Founding of Y Combinator\",\n",
      "        \"Support for Startup Founders\",\n",
      "        \"Philosophy on Entrepreneurship\"\n",
      "    ],\n",
      "    \"influential_works\": [],\n",
      "    \"education\": \"\",\n",
      "    \"awards\": []\n",
      "}\n"
     ]
    }
   ],
   "source": [
    "llm = Ollama(model=\"llama3.2:latest\", request_timeout=120.0, json_mode=True)\n",
    "response = llm.complete(\n",
    "    \"Who is Paul Graham? Output as a structured JSON object.\"\n",
    ")\n",
    "print(str(response))"
   ]
  },
  {
   "cell_type": "markdown",
   "metadata": {},
   "source": [
    "# Structured Outputs\n"
   ]
  },
  {
   "cell_type": "code",
   "execution_count": 10,
   "metadata": {},
   "outputs": [
    {
     "name": "stdout",
     "output_type": "stream",
     "text": [
      "{\"name\":\"Pumped Up Kicks\",\"artist\":\"Foster the People\"}\n"
     ]
    }
   ],
   "source": [
    "from llama_index.core.bridge.pydantic import BaseModel\n",
    "\n",
    "\n",
    "class Song(BaseModel):\n",
    "    \"\"\"A song with name and artist.\"\"\"\n",
    "\n",
    "    name: str\n",
    "    artist: str\n",
    "\n",
    "llm = Ollama(model=\"llama3.2:latest\", request_timeout=120.0)\n",
    "\n",
    "sllm = llm.as_structured_llm(Song)\n",
    "from llama_index.core.llms import ChatMessage\n",
    "\n",
    "response = sllm.chat([ChatMessage(role=\"user\", content=\"Name a random song!\")])\n",
    "print(response.message.content)"
   ]
  },
  {
   "cell_type": "markdown",
   "metadata": {},
   "source": [
    "# with async"
   ]
  },
  {
   "cell_type": "code",
   "execution_count": 11,
   "metadata": {},
   "outputs": [
    {
     "name": "stdout",
     "output_type": "stream",
     "text": [
      "{\"name\":\"Mr. Brightside\",\"artist\":\"The Killers\"}\n"
     ]
    }
   ],
   "source": [
    "response = await sllm.achat(\n",
    "    [ChatMessage(role=\"user\", content=\"Name a random song!\")]\n",
    ")\n",
    "print(response.message.content)"
   ]
  },
  {
   "cell_type": "code",
   "execution_count": 12,
   "metadata": {},
   "outputs": [
    {
     "name": "stdout",
     "output_type": "stream",
     "text": [
      "{\"name\":null,\"artist\":null}\n",
      "{\"name\":null,\"artist\":null}\n",
      "{\"name\":null,\"artist\":null}\n",
      "{\"name\":\"\",\"artist\":null}\n",
      "{\"name\":\"Ever\",\"artist\":null}\n",
      "{\"name\":\"Everlong\",\"artist\":null}\n",
      "{\"name\":\"Everlong\",\"artist\":null}\n",
      "{\"name\":\"Everlong\",\"artist\":null}\n",
      "{\"name\":\"Everlong\",\"artist\":null}\n",
      "{\"name\":\"Everlong\",\"artist\":null}\n",
      "{\"name\":\"Everlong\",\"artist\":\"\"}\n",
      "{\"name\":\"Everlong\",\"artist\":\"Foo\"}\n",
      "{\"name\":\"Everlong\",\"artist\":\"Foo Fighters\"}\n",
      "{\"name\":\"Everlong\",\"artist\":\"Foo Fighters\"}\n",
      "{\"name\":\"Everlong\",\"artist\":\"Foo Fighters\"}\n"
     ]
    }
   ],
   "source": [
    "response_gen = sllm.stream_chat(\n",
    "    [ChatMessage(role=\"user\", content=\"Name a random song!\")]\n",
    ")\n",
    "for r in response_gen:\n",
    "    print(r.message.content)"
   ]
  },
  {
   "cell_type": "markdown",
   "metadata": {},
   "source": [
    "# Multi-Modal Support"
   ]
  },
  {
   "cell_type": "code",
   "execution_count": 14,
   "metadata": {},
   "outputs": [
    {
     "name": "stdout",
     "output_type": "stream",
     "text": [
      "assistant: It's a promotional graphic. It shows the title \"OLLAMA WEB UI\" which may refer to an application or service related to web user interface design, possibly named after Olloama. The man on the right could be associated with OLLAMA WEB UI as it seems he represents them or is endorsing their product/service.\n"
     ]
    }
   ],
   "source": [
    "from llama_index.core.llms import ChatMessage, TextBlock, ImageBlock\n",
    "from llama_index.llms.ollama import Ollama\n",
    "\n",
    "llm = Ollama(model=\"minicpm-v\", request_timeout=120.0)\n",
    "\n",
    "messages = [\n",
    "    ChatMessage(\n",
    "        role=\"user\",\n",
    "        blocks=[\n",
    "            TextBlock(text=\"What is this?\"),\n",
    "            ImageBlock(path=\"image.png\"),\n",
    "        ],\n",
    "    ),\n",
    "]\n",
    "\n",
    "resp = llm.chat(messages)\n",
    "print(resp)"
   ]
  },
  {
   "cell_type": "code",
   "execution_count": null,
   "metadata": {},
   "outputs": [],
   "source": []
  }
 ],
 "metadata": {
  "kernelspec": {
   "display_name": "Python 3",
   "language": "python",
   "name": "python3"
  },
  "language_info": {
   "codemirror_mode": {
    "name": "ipython",
    "version": 3
   },
   "file_extension": ".py",
   "mimetype": "text/x-python",
   "name": "python",
   "nbconvert_exporter": "python",
   "pygments_lexer": "ipython3",
   "version": "3.undefined.undefined"
  }
 },
 "nbformat": 4,
 "nbformat_minor": 2
}
