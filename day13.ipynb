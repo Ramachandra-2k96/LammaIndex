{
 "cells": [
  {
   "cell_type": "markdown",
   "metadata": {},
   "source": [
    "# Personally Identifyable Information"
   ]
  },
  {
   "cell_type": "code",
   "execution_count": 1,
   "metadata": {},
   "outputs": [],
   "source": [
    "from llama_index.core.postprocessor import (PIINodePostprocessor,NERPIINodePostprocessor)\n",
    "from llama_index.llms.ollama import Ollama\n",
    "from llama_index.embeddings.ollama import OllamaEmbedding\n",
    "from llama_index.core import Document, VectorStoreIndex, Settings\n",
    "from llama_index.core.schema import TextNode"
   ]
  },
  {
   "cell_type": "code",
   "execution_count": 2,
   "metadata": {},
   "outputs": [],
   "source": [
    "text = \"\"\"Hi! I’m Peter, CEO of Kickresume, and these career-related stories caught my attention this month — and might catch yours too.\n",
    "\n",
    "Today’s story: US vs. Europe work survey\n",
    "\n",
    "Handpicked remote job paying in $$$: Product Manager at Cribl ($220k-$240k  per year)\n",
    "\n",
    "Random piece of career advice that actually works: How to make an ATS-optimized resume\n",
    "\n",
    "Surprise at the end: 💰💰💰\n",
    "\n",
    " \n",
    "I was born in the heart of Europe (some call it Eastern Europe, though I wouldn’t agree). \n",
    "\n",
    "And when I was a kid, America was it. The dream. The place where everything was bigger, better, and more exciting.\n",
    "\n",
    "When I sat in front of the TV, Kevin McCallister had an entire mansion to himself, packed with enough gadgets to fight off two grown men. I had a wooden spoon. \n",
    "\n",
    "He was supposed to go to Paris but somehow ended up in The Plaza Hotel in New York by accident. My family went to Balaton—a shallow, muddy lake in Hungary—on purpose.\n",
    "\n",
    "Even Stuart Little (a literal rat) had a private jet. I had a hand-me-down bike.\n",
    "\n",
    "To me, America meant success. \n",
    "\n",
    "And to be fair, even now—from a business standpoint—America still is unmatched.\n",
    "\n",
    "More opportunities, fewer regulations, less bureaucracy. If you’re ambitious and want to make serious money, as far as I can remember, the US has always been the place to do it.\n",
    "\n",
    "Current events aside, it’s no surprise that the idea never completely left my mind — should I move there?\n",
    "\n",
    "(Don’t worry, I’m not going to talk about current US or EU politics. No way I’m getting anywhere near that topic.)\"\"\""
   ]
  },
  {
   "cell_type": "code",
   "execution_count": 3,
   "metadata": {},
   "outputs": [],
   "source": [
    "node = TextNode(text =text)"
   ]
  },
  {
   "cell_type": "code",
   "execution_count": 4,
   "metadata": {},
   "outputs": [],
   "source": [
    "Settings.llm = Ollama(model='qwen2.5:3b')\n",
    "Settings.embed_model = OllamaEmbedding(model_name='nomic-embed-text')"
   ]
  },
  {
   "cell_type": "code",
   "execution_count": 5,
   "metadata": {},
   "outputs": [],
   "source": [
    "prosessors = PIINodePostprocessor(llm=Settings.llm)"
   ]
  },
  {
   "cell_type": "code",
   "execution_count": 6,
   "metadata": {},
   "outputs": [],
   "source": [
    "from llama_index.core.schema import NodeWithScore\n",
    "new_nods = prosessors.postprocess_nodes([NodeWithScore(node =node)])"
   ]
  },
  {
   "cell_type": "code",
   "execution_count": 7,
   "metadata": {},
   "outputs": [
    {
     "data": {
      "text/plain": [
       "\"Hi! I'm [NAME1], CEO of Kickresume, and these career-related stories caught my attention this month — and might catch yours too.\\n\\nToday’s story: US vs. Europe work survey\\n\\nHandpicked remote job paying in $$$: Product Manager at Cribl ([$$] per year)\\n\\nRandom piece of career advice that actually works: How to make an ATS-optimized resume\\n\\nSurprise at the end: 💰💰💰\\n\\nI was born in the heart of [LOCATION1] ([COUNTRY2], some call it Eastern [COUNTRY3], though I wouldn’t agree).\\n\\nAnd when I was a kid, America was it. The dream. The place where everything was bigger, better, and more exciting.\\n\\nWhen I sat in front of the TV, Kevin McCallister had an entire mansion to himself, packed with enough gadgets to fight off two grown men. [NAME4] had a wooden spoon.\\n\\nHe was supposed to go to Paris but somehow ended up in The Plaza Hotel in New York by accident. My family went to Balaton—a shallow, muddy lake in Hungary—on purpose.\\n\\nEven Stuart Little (a literal rat) had a private jet. I had a hand-me-down bike.\\n\\nTo me, America meant success. \\n\\nAnd to be fair, even now—from a business standpoint—America still is unmatched.\\n\\nMore opportunities, fewer regulations, less bureaucracy. If you’re ambitious and want to make serious money, as far as I can remember, the [LOCATION2] has always been the place to do it.\\n\\nCurrent events aside, it’s no surprise that the idea never completely left my mind — should I move there?\\n\\n(Don’t worry, I’m not going to talk about current [LOCATION1] or [COUNTRY2] politics. No way I’m getting anywhere near that topic.)\""
      ]
     },
     "execution_count": 7,
     "metadata": {},
     "output_type": "execute_result"
    }
   ],
   "source": [
    "new_nods[0].node.get_text()"
   ]
  },
  {
   "cell_type": "code",
   "execution_count": 8,
   "metadata": {},
   "outputs": [
    {
     "data": {
      "text/plain": [
       "{'NAME1': 'Peter',\n",
       " 'NAME2': 'Kickresume',\n",
       " 'NAME3': '[LOCATION1]',\n",
       " 'NAME4': 'Kevin McCallister',\n",
       " 'COUNTRY2': '[LOCATION2]',\n",
       " 'COUNTRY3': '[COUNTRY2]'}"
      ]
     },
     "execution_count": 8,
     "metadata": {},
     "output_type": "execute_result"
    }
   ],
   "source": [
    "new_nods[0].node.metadata[\"__pii_node_info__\"]"
   ]
  },
  {
   "cell_type": "code",
   "execution_count": null,
   "metadata": {},
   "outputs": [],
   "source": []
  }
 ],
 "metadata": {
  "kernelspec": {
   "display_name": "Python 3",
   "language": "python",
   "name": "python3"
  },
  "language_info": {
   "codemirror_mode": {
    "name": "ipython",
    "version": 3
   },
   "file_extension": ".py",
   "mimetype": "text/x-python",
   "name": "python",
   "nbconvert_exporter": "python",
   "pygments_lexer": "ipython3",
   "version": "3.12.3"
  }
 },
 "nbformat": 4,
 "nbformat_minor": 2
}
