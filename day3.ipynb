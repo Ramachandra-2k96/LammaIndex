{
 "cells": [
  {
   "cell_type": "code",
   "execution_count": null,
   "metadata": {},
   "outputs": [],
   "source": [
    "# %pip install llama-index llama-index-readers-web --break-system-packages"
   ]
  },
  {
   "cell_type": "code",
   "execution_count": null,
   "metadata": {},
   "outputs": [],
   "source": [
    "from llama_index.readers.web import SimpleWebPageReader"
   ]
  },
  {
   "cell_type": "code",
   "execution_count": null,
   "metadata": {},
   "outputs": [],
   "source": [
    "documents = SimpleWebPageReader(html_to_text=True).load_data([\"https://www.restack.io/docs/llamaindex-knowledge-simple-webpage-reader-llamaindex#:~:text=Simple%20webpage%20reader%20-%20LlamaIndex%20-%20November%202024,Troubleshooting%20Common%20Issues%20...%207%20Future%20Developments%20\"])\n",
    "print(documents[0])"
   ]
  },
  {
   "cell_type": "code",
   "execution_count": null,
   "metadata": {},
   "outputs": [],
   "source": [
    "from IPython.display import display, Markdown\n",
    "\n",
    "display(Markdown(f\"# {documents[0].text}\"))"
   ]
  },
  {
   "cell_type": "markdown",
   "metadata": {},
   "source": [
    "# Read Documents"
   ]
  },
  {
   "cell_type": "markdown",
   "metadata": {},
   "source": [
    "### single file"
   ]
  },
  {
   "cell_type": "code",
   "execution_count": 4,
   "metadata": {},
   "outputs": [
    {
     "name": "stdout",
     "output_type": "stream",
     "text": [
      "Doc ID: 2ef8a802-eaf9-4cbb-a67e-70c32061a769\n",
      "Text: Tulu Language Text Recognition and Translation PRATHWINI1,\n",
      "ANISHA P RODRIGUES2, P. VIJAYA3, ROSHAN FERNANDES4* 1Department of\n",
      "Master of Computer Applications, NMAM Institute of Technology,\n",
      "NITTE(Deemed to be University), India\n",
      "(e-mail:prathwini.devadiga@nitte.edu.in) 2Department of Computer\n",
      "Science and Engineering, NMAM Institute of Technology, ...\n"
     ]
    }
   ],
   "source": [
    "from llama_index.core import SimpleDirectoryReader\n",
    "\n",
    "documents = SimpleDirectoryReader(input_files=[\"data/Tulu_Language_Text_Recognition_and_Translation.pdf\"]).load_data()\n",
    "print(documents[0])"
   ]
  },
  {
   "cell_type": "markdown",
   "metadata": {},
   "source": [
    "### entire directory"
   ]
  },
  {
   "cell_type": "code",
   "execution_count": 6,
   "metadata": {},
   "outputs": [
    {
     "name": "stdout",
     "output_type": "stream",
     "text": [
      "Doc ID: eaa91070-5e85-434a-b003-c1dad7173014\n",
      "Text: Tulu Language Text Recognition and Translation PRATHWINI1,\n",
      "ANISHA P RODRIGUES2, P. VIJAYA3, ROSHAN FERNANDES4* 1Department of\n",
      "Master of Computer Applications, NMAM Institute of Technology,\n",
      "NITTE(Deemed to be University), India\n",
      "(e-mail:prathwini.devadiga@nitte.edu.in) 2Department of Computer\n",
      "Science and Engineering, NMAM Institute of Technology, ...\n"
     ]
    }
   ],
   "source": [
    "from llama_index.core import SimpleDirectoryReader\n",
    "\n",
    "documents = SimpleDirectoryReader('data').load_data()\n",
    "print(documents[0])"
   ]
  },
  {
   "cell_type": "code",
   "execution_count": null,
   "metadata": {},
   "outputs": [],
   "source": []
  }
 ],
 "metadata": {
  "kernelspec": {
   "display_name": "Python 3",
   "language": "python",
   "name": "python3"
  },
  "language_info": {
   "codemirror_mode": {
    "name": "ipython",
    "version": 3
   },
   "file_extension": ".py",
   "mimetype": "text/x-python",
   "name": "python",
   "nbconvert_exporter": "python",
   "pygments_lexer": "ipython3",
   "version": "3.12.3"
  }
 },
 "nbformat": 4,
 "nbformat_minor": 2
}
