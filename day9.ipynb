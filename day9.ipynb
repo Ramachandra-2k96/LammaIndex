{
 "cells": [
  {
   "cell_type": "markdown",
   "metadata": {},
   "source": [
    "# QuerryEngine 2"
   ]
  },
  {
   "cell_type": "code",
   "execution_count": 8,
   "metadata": {},
   "outputs": [],
   "source": [
    "from llama_index.llms.ollama import Ollama\n",
    "from llama_index.embeddings.ollama import OllamaEmbedding\n",
    "from llama_index.readers.web import SimpleWebPageReader\n",
    "from llama_index.core import Settings, VectorStoreIndex\n",
    "from llama_index.core.response_synthesizers import TreeSummarize"
   ]
  },
  {
   "cell_type": "code",
   "execution_count": 9,
   "metadata": {},
   "outputs": [],
   "source": [
    "# Load documents (Enable `html_to_text` for cleaner output)\n",
    "documents = SimpleWebPageReader(html_to_text=True).load_data(\n",
    "    [\"https://en.wikipedia.org/wiki/Saturn\"]\n",
    ")"
   ]
  },
  {
   "cell_type": "code",
   "execution_count": 10,
   "metadata": {},
   "outputs": [],
   "source": [
    "Settings.llm = Ollama(model=\"llama3.2\")  # Gemma is faster than Granite\n",
    "Settings.embed_model = OllamaEmbedding(\"nomic-embed-text:latest\")"
   ]
  },
  {
   "cell_type": "code",
   "execution_count": 11,
   "metadata": {},
   "outputs": [],
   "source": [
    "vector_index = VectorStoreIndex.from_documents(\n",
    "    documents,\n",
    "    chunk_size=1024,  # Adjust for better coherence\n",
    "    chunk_overlap=100,  # Helps maintain context across chunks\n",
    "    )\n",
    "\n",
    "summarizer = TreeSummarize(\n",
    "    verbose=False,\n",
    "    streaming=True,  # Enables streaming output\n",
    ")"
   ]
  },
  {
   "cell_type": "code",
   "execution_count": 22,
   "metadata": {},
   "outputs": [],
   "source": [
    "query_engine = vector_index.as_query_engine(\n",
    "    response_synthesizer=summarizer,\n",
    "    summary_template=\"\"\"Your task is to summarize the provided text by strictly adhering to these steps:\n",
    "\n",
    "1. Identify all main ideas or key points explicitly stated in the text.\n",
    "2. For each key point, provide a **thorough and expansive explanation** using only the supporting details, examples, or evidence directly present in the text. Elaborate fully on each detail to ensure depth.\n",
    "3. If the text explicitly states conclusions or broader implications, include those verbatim or paraphrased, but only from the text itself, and expand on their significance as presented.\n",
    "\n",
    "Strict rules for your response:\n",
    "- Use **only** the information explicitly provided in the text, with no exceptions.\n",
    "- Do **not** under any circumstances add external knowledge, assumptions, opinions, or inferences beyond what is written.\n",
    "- If a user’s request or question goes beyond the text or asks for information not explicitly present, respond **solely** with:  \n",
    "  *\"I am unable to answer that question as it is outside the context of the provided text.\"*\n",
    "- Do **not** provide suggestions, elaborations, or additional information when the text lacks the answer—stick to the exact response above.\n",
    "- Ensure the summary is **detailed, complete, and lengthy**, capturing every significant aspect explicitly mentioned in the text in an exhaustive manner, leaving no detail unexplored.\n",
    "\n",
    "Style and Formatting:\n",
    "- Present the summary in a **visually stunning, well-structured format** of your choosing that grabs attention and enhances readability.\n",
    "- Make it **engaging, professional, and lively**—avoid a dull or monotonous tone.\n",
    "- Use creative formatting (e.g., spacing, emphasis, or lists) to organize the content beautifully and support the expanded content.\n",
    "- Add emojis sparingly (no more than 2-3 total) in strategic places to highlight key moments or boost appeal, but keep it tasteful and professional.\n",
    "\n",
    "Context: {context}\n",
    "\n",
    "Your sole purpose is to summarize the provided text accurately and fully, never stepping outside its boundaries, while delivering a captivating, rich, and **substantially detailed presentation**. If no text is provided or the context is unclear, say:  \n",
    "*\"Please provide the text to summarize.\"*\"\"\",\n",
    "    streaming=True,\n",
    ")"
   ]
  },
  {
   "cell_type": "code",
   "execution_count": 25,
   "metadata": {},
   "outputs": [
    {
     "name": "stdout",
     "output_type": "stream",
     "text": [
      "Saturn, the sixth planet from the Sun and the second largest in the Solar System, is a gas giant with an average radius about nine times that of Earth. It has an eighth the average density of Earth but is over 95 times more massive. Despite being almost as big as Jupiter, Saturn has less than a third its mass.\n",
      "\n",
      "Saturn's interior is thought to be composed of a rocky core surrounded by a deep layer of metallic hydrogen, an intermediate layer of liquid hydrogen and liquid helium, and an outer layer of gas. The planet's pale yellow hue is due to ammonia crystals in its upper atmosphere.\n",
      "\n",
      "An electrical current in the metallic hydrogen layer is believed to give rise to Saturn's planetary magnetic field, which is weaker than Earth's but has a magnetic moment 580 times that of our planet due to Saturn's greater size. The magnetic field strength of Saturn is about one-twentieth that of Jupiter.\n",
      "\n",
      "Saturn orbits the Sun at a distance of 9.59 astronomical units (AU) with an orbital period of 29.45 years. Its atmosphere is characterized by high surface pressure, a scale height of 59.5 km, and a composition primarily made up of hydrogen (96.3% ± 2.4%), helium (3.25% ± 2.4%), and methane (0.45% ± 0.2%). Other volatile compounds like ammonia, water ice, and ethane are also present in smaller quantities.\n",
      "\n",
      "The planet's magnetic field is not as strong as Earth's due to its lower surface gravity, which results in a weaker electrical current in the metallic hydrogen layer. This, in turn, affects the planetary magnetic field's strength and shape.\n",
      "\n",
      "Saturn's rotation period is approximately 10 hours and 39 minutes, resulting in extremely high wind speeds near the equator that can reach up to 1,118 km/h (700 mph). The planet's atmosphere also exhibits strong jet streams, which are bands of fast-moving air that play a crucial role in shaping Saturn's weather patterns.\n",
      "\n",
      "Saturn has a diverse system of moons, ranging from small ring moonlets to larger satellites like Titan and Enceladus. Some notable moons include Pan, Daphnis, Atlas, Prometheus, Pandora, Epimetheus, Janus, Aegaeon, Mimas, Methone, Anthe, Pallene, Tethys, Telesto, Calypso, Helene, Polydeuces, and Iapetus, among others.\n",
      "\n",
      "The planet's magnetic field has also been influenced by the presence of these moons. For example, Enceladus's subsurface ocean and geysers have created a complex system of charged particles that interact with Saturn's magnetic field, producing spectacular aurorae displays in the upper atmosphere.\n",
      "\n",
      "Overall, Saturn is an awe-inspiring planet with many unique features that continue to captivate scientists and astronomers alike. Its diverse moons, intricate magnetic field, and complex atmospheric dynamics make it an fascinating target for further study and exploration."
     ]
    }
   ],
   "source": [
    "for token in query_engine.query(\"can you summarice in details please\").response_gen:\n",
    "    print(token, end=\"\", flush=True)"
   ]
  }
 ],
 "metadata": {
  "kernelspec": {
   "display_name": "Python 3",
   "language": "python",
   "name": "python3"
  },
  "language_info": {
   "codemirror_mode": {
    "name": "ipython",
    "version": 3
   },
   "file_extension": ".py",
   "mimetype": "text/x-python",
   "name": "python",
   "nbconvert_exporter": "python",
   "pygments_lexer": "ipython3",
   "version": "3.12.3"
  }
 },
 "nbformat": 4,
 "nbformat_minor": 2
}
